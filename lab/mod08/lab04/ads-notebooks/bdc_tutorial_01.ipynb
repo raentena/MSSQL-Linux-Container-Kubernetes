{
    "metadata": {
        "kernelspec": {
            "name": "SQL",
            "display_name": "SQL",
            "language": "sql"
        },
        "language_info": {
            "name": "sql",
            "version": ""
        }
    },
    "nbformat_minor": 2,
    "nbformat": 4,
    "cells": [
        {
            "cell_type": "markdown",
            "source": [
                "# SQL Server 2019 big data cluster Tutorial\n",
                "\n",
                "## 01 - SQL Server Master Instance Queries\n",
                "\n",
                "In this tutorial you will learn how to run standard SQL Server Queries against the Master Instance (MI) in a SQL Server big data cluster.\n",
                "\n",
                "You'll start with a simple set of queries to explore the Instance:"
            ],
            "metadata": {
                "azdata_cell_guid": "bca9df1d-585b-40c9-b61f-0f1d5bff4d74"
            }
        },
        {
            "cell_type": "code",
            "source": [
                "/* Instance Version */\r\n",
                "SELECT @@VERSION; \r\n",
                "GO\r\n",
                "\r\n",
                "/* General Configuration */\r\n",
                "USE master;  \r\n",
                "GO  \r\n",
                "EXEC sp_configure;\r\n",
                "GO\r\n",
                "\r\n",
                "/* Databases on this Instance */\r\n",
                "SELECT db.name AS 'Database Name'\r\n",
                ", Physical_Name AS 'Location on Disk'\r\n",
                ", Cast(Cast(Round(cast(mf.size as decimal) * 8.0/1024000.0,2) as decimal(18,2)) as nvarchar) 'Size (GB)'\r\n",
                "FROM sys.master_files mf\r\n",
                "INNER JOIN \r\n",
                "    sys.databases db ON db.database_id = mf.database_id\r\n",
                "WHERE mf.type_desc = 'ROWS';\r\n",
                "GO\r\n",
                "\r\n",
                "SELECT * from sys.master_files\r\n",
                ""
            ],
            "metadata": {
                "azdata_cell_guid": "245818aa-6bbd-44eb-832e-8c57f1dbe564"
            },
            "outputs": [],
            "execution_count": null
        },
        {
            "cell_type": "markdown",
            "source": [
                "## 02 - Query Data\n",
                "\n",
                "The SQL Server 2019 big data cluster Master Instance is a SQL Server Instance - and as such has most all of the query facilities and capabilities of Microsoft SQL Server running on Linux. \n",
                "\n",
                "Show The Populations from WorldWideImporters DB"
            ],
            "metadata": {
                "azdata_cell_guid": "7db932ab-1da7-41e4-9db3-aa869a81d59b"
            }
        },
        {
            "cell_type": "code",
            "source": [
                "\n",
                "USE [WideWorldImporters-Full];\n",
                "GO\n",
                "/* Show the Populations. \n",
                "Where do we have the most people?\n",
                " */\n",
                "SELECT TOP 10 CityName as 'City Name'\n",
                ", StateProvinceName as 'State or Province'\n",
                ", sp.LatestRecordedPopulation as 'Population'\n",
                ", CountryName\n",
                "FROM Application.Cities AS city\n",
                "JOIN Application.StateProvinces AS sp ON\n",
                "    city.StateProvinceID = sp.StateProvinceID\n",
                "JOIN Application.Countries AS ctry ON \n",
                "    sp.CountryID=ctry.CountryID\n",
                "ORDER BY Population, CityName;\n",
                "GO"
            ],
            "metadata": {
                "azdata_cell_guid": "5841c04b-586d-4a82-b0c1-824de604c01f"
            },
            "outputs": [],
            "execution_count": null
        },
        {
            "cell_type": "markdown",
            "source": [
                "## 03- Query Data\n",
                "\n",
                "Show Customer Sales in WorldWideImporters DB"
            ],
            "metadata": {
                "azdata_cell_guid": "990b4b65-a0d0-4567-b72f-9f16bbdbe395"
            }
        },
        {
            "cell_type": "code",
            "source": [
                "/* Show Customer Sales in WWI OLTP */\r\n",
                "USE [WideWorldImporters-Full];\r\n",
                "GO\r\n",
                "\r\n",
                "SELECT TOP 10 s.CustomerID\r\n",
                ", s.CustomerName\r\n",
                ", sc.CustomerCategoryName\r\n",
                ",  pp.FullName AS PrimaryContact\r\n",
                ",  ap.FullName AS AlternateContact\r\n",
                ",  s.PhoneNumber\r\n",
                ",  s.FaxNumber\r\n",
                ",  bg.BuyingGroupName\r\n",
                ",  s.WebsiteURL\r\n",
                ",  dm.DeliveryMethodName AS DeliveryMethod\r\n",
                ",  c.CityName AS CityName\r\n",
                ",  s.DeliveryLocation AS DeliveryLocation\r\n",
                ",  s.DeliveryRun\r\n",
                ",  s.RunPosition\r\n",
                "FROM Sales.Customers AS s\r\n",
                "    LEFT OUTER JOIN Sales.CustomerCategories AS sc\r\n",
                "    ON s.CustomerCategoryID = sc.CustomerCategoryID\r\n",
                "    LEFT OUTER JOIN [Application].People AS pp\r\n",
                "    ON s.PrimaryContactPersonID = pp.PersonID\r\n",
                "    LEFT OUTER JOIN [Application].People AS ap\r\n",
                "    ON s.AlternateContactPersonID = ap.PersonID\r\n",
                "    LEFT OUTER JOIN Sales.BuyingGroups AS bg\r\n",
                "    ON s.BuyingGroupID = bg.BuyingGroupID\r\n",
                "    LEFT OUTER JOIN [Application].DeliveryMethods AS dm\r\n",
                "    ON s.DeliveryMethodID = dm.DeliveryMethodID\r\n",
                "    LEFT OUTER JOIN [Application].Cities AS c\r\n",
                "    ON s.DeliveryCityID = c.CityID\r\n",
                "ORDER BY c.CityName"
            ],
            "metadata": {
                "azdata_cell_guid": "14036e3c-e53f-4fef-b21c-5198ea53f463"
            },
            "outputs": [],
            "execution_count": null
        },
        {
            "cell_type": "markdown",
            "source": [
                "## 04- Query Data\n",
                "\n",
                "Show Backup History"
            ],
            "metadata": {
                "azdata_cell_guid": "d4c161d7-dd0e-4e0a-b2bb-6cda068a150a"
            }
        },
        {
            "cell_type": "code",
            "source": [
                "USE master; \r\n",
                "GO\r\n",
                "SELECT DB.name AS [database],\r\n",
                "    CASE\r\n",
                "        WHEN BK.[type] = 'D' THEN 'FULL'\r\n",
                "        WHEN BK.[type] = 'I' THEN 'DIFF'\r\n",
                "        WHEN BK.[type] = 'L' THEN 'LOG'\r\n",
                "        WHEN BK.[type] = 'F' THEN 'FILEGROUP'\r\n",
                "        WHEN BK.[type] = 'G' THEN 'DIFFERENTIAL - FILE'\r\n",
                "        WHEN BK.[type] = 'P' THEN 'PARTIAL'\r\n",
                "        WHEN BK.[type] = 'Q' THEN 'DIFFERENTIAL PARTIAL'\r\n",
                "    END AS [backup_type],\r\n",
                "    MAX(BK.backup_start_date) AS [last_backup]\r\n",
                "FROM master..sysdatabases AS DB\r\n",
                "LEFT JOIN msdb..backupset AS BK ON DB.name = BK.database_name\r\n",
                "LEFT JOIN msdb..backupmediafamily AS MD ON BK.media_set_id = MD.media_set_id\r\n",
                "GROUP BY DB.name, BK.[type]\r\n",
                "ORDER BY MAX(BK.backup_start_date) DESC, DB.name;"
            ],
            "metadata": {
                "azdata_cell_guid": "7c87f120-671e-4fe3-b52a-c88d3679490d"
            },
            "outputs": [],
            "execution_count": null
        },
        {
            "cell_type": "markdown",
            "source": [
                "## 05- Query Data\n",
                "\n",
                "Show Query Performance"
            ],
            "metadata": {
                "azdata_cell_guid": "a68580ff-e6d5-448b-9981-46944044e075"
            }
        },
        {
            "cell_type": "code",
            "source": [
                "USE master; \r\n",
                "go \r\n",
                "SELECT TOP 10\r\n",
                "   rank() over(order by total_worker_time desc,sql_handle,statement_start_offset) as [rank]\r\n",
                "   , creation_time as [create_time]\r\n",
                "   , last_execution_time as [last_execution_time]\r\n",
                "   , (total_worker_time+0.0)/1000 as [total_worker_time]\r\n",
                "   , (total_worker_time+0.0)/(execution_count*1000) as [average_cpu_time]\r\n",
                "   , total_logical_reads as [logical_reads]\r\n",
                "   , total_logical_writes as [logical_writes]\r\n",
                "   , execution_count as [execution_count]\r\n",
                "   , total_logical_reads+total_logical_writes as [aggregated_io]\r\n",
                "   , (total_logical_reads+total_logical_writes)/(execution_count + 0.0) as [average_io]\r\n",
                "   , case when sql_handle IS NULL\r\n",
                "       then ''\r\n",
                "       else ( substring(st.text,(qs.statement_start_offset+2)/2,\r\n",
                "           (case when qs.statement_end_offset = -1\r\n",
                "               then len(convert(nvarchar(MAX),st.text))*2\r\n",
                "               else qs.statement_end_offset\r\n",
                "           end - qs.statement_start_offset) /2  ) )\r\n",
                "   end as [query_text]\r\n",
                "   , db_name(st.dbid) as [database]\r\n",
                "   , st.objectid as [object_id]\r\n",
                "from sys.dm_exec_query_stats qs\r\n",
                "cross apply sys.dm_exec_sql_text(sql_handle) st\r\n",
                "where total_worker_time > 0\r\n",
                "order by total_worker_time  desc"
            ],
            "metadata": {
                "azdata_cell_guid": "14a5d92b-d340-458e-a6ea-9c3dab817224"
            },
            "outputs": [],
            "execution_count": null
        },
        {
            "cell_type": "markdown",
            "source": [
                "## 06- Query Data\n",
                "\n",
                "Show Server Memory by DB"
            ],
            "metadata": {
                "azdata_cell_guid": "b64a5791-4e34-4bc5-963c-0437d35cea18"
            }
        },
        {
            "cell_type": "code",
            "source": [
                "\r\n",
                "\r\n",
                "DECLARE @total_buffer INT;\r\n",
                "\r\n",
                "SELECT @total_buffer = cntr_value\r\n",
                "FROM sys.dm_os_performance_counters \r\n",
                "WHERE RTRIM([object_name]) LIKE '%Buffer Manager'\r\n",
                "AND counter_name = 'Database Pages';\r\n",
                "\r\n",
                ";WITH src AS\r\n",
                "(\r\n",
                "SELECT \r\n",
                "database_id, db_buffer_pages = COUNT_BIG(*)\r\n",
                "FROM sys.dm_os_buffer_descriptors\r\n",
                "--WHERE database_id BETWEEN 5 AND 32766\r\n",
                "GROUP BY database_id\r\n",
                ")\r\n",
                "SELECT\r\n",
                "[db_name] = CASE [database_id] WHEN 32767 \r\n",
                "THEN 'Resource DB' \r\n",
                "ELSE DB_NAME([database_id]) END,\r\n",
                "db_buffer_pages,\r\n",
                "db_buffer_MB = db_buffer_pages / 128,\r\n",
                "db_buffer_percent = CONVERT(DECIMAL(6,3), \r\n",
                "db_buffer_pages * 100.0 / @total_buffer)\r\n",
                "FROM src\r\n",
                "ORDER BY db_buffer_MB DESC; "
            ],
            "metadata": {
                "azdata_cell_guid": "693374b8-885d-44e5-aa2a-73a6173cd4c4"
            },
            "outputs": [],
            "execution_count": 8
        },
        {
            "cell_type": "markdown",
            "source": [
                "## 07- Query Data\n",
                "\n",
                "Show Table Space  DB"
            ],
            "metadata": {
                "azdata_cell_guid": "295b8830-4dab-4698-86da-c436573a0b47"
            }
        },
        {
            "cell_type": "code",
            "source": [
                "USE [WideWorldImporters-Full]; \r\n",
                "GO \r\n",
                "\r\n",
                "SELECT TOP(10)\r\n",
                "SCH.name as schema_name, \r\n",
                "concat(TABL.name,':', INDX.name) AS table_name, \r\n",
                "--INDX.name AS index_name,\r\n",
                "SUM(PART.rows) AS row_count,\r\n",
                "(SUM(ALOC.used_pages)*8/1024) AS used_space_MB, \r\n",
                "(SUM(ALOC.total_pages)*8/1024) AS total_space_MB, \r\n",
                "(SUM(ALOC.data_pages)*8/1024) AS data_space_MB,\r\n",
                "SUM(ALOC.total_pages) AS total_pages, \r\n",
                "SUM(ALOC.used_pages) AS used_pages, \r\n",
                "SUM(ALOC.data_pages) AS data_pages\r\n",
                "FROM sys.Tables AS TABL \r\n",
                "INNER JOIN sys.Indexes AS INDX \r\n",
                "ON TABL.object_id = INDX.object_id \r\n",
                "INNER JOIN sys.Partitions AS PART \r\n",
                "ON INDX.object_id = PART.object_id AND INDX.index_id = PART.index_id \r\n",
                "INNER JOIN sys.Allocation_Units AS ALOC ON PART.partition_id = ALOC.container_id \r\n",
                "INNER JOIN sys.schemas as SCH on tabl.schema_id = sch.schema_id\r\n",
                "GROUP BY SCH.name, TABL.name,\r\n",
                "\t\t\tINDX.object_id,\r\n",
                "\t\t\tINDX.index_id,\r\n",
                "\t\t\tINDX.name\r\n",
                "ORDER BY (SUM(ALOC.total_pages)*8/1024) desc"
            ],
            "metadata": {
                "azdata_cell_guid": "0c6b1741-d21a-4673-a00d-90018571b411"
            },
            "outputs": [],
            "execution_count": 9
        }
    ]
}